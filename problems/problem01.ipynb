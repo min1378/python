{
 "cells": [
  {
   "cell_type": "markdown",
   "metadata": {},
   "source": [
    "# 상승장? 하락장?\n",
    "\n",
    "> 최고가와 최저가의 차이를 변동폭으로 정의할 때 (시가 + 변동폭)이 최고가 보다 높을 경우 \"상승장\", 그렇지 않은 경우 \"하락장\" 문자열을 출력하라.\n",
    "\n",
    "|Key Name|Description|\n",
    "|------|---|\n",
    "|opening_price|최근 24시간 내 시작 거래금액|\n",
    "|closing_price|최근 24시간 내 마지막 거래금액|\n",
    "|min_price|최근 24시간 내 최저 거래금액|\n",
    "|max_price|최근 24시간 내 최고 거래금액|"
   ]
  },
  {
   "cell_type": "code",
   "execution_count": null,
   "metadata": {},
   "outputs": [],
   "source": [
    "import requests\n",
    "from pprint import pprint\n",
    "url = \"https://api.bithumb.com/public/ticker/btc\"\n",
    "data = requests.get(url).json()['data']\n",
    "#pprint(data)\n",
    "max_p = int(data['max_price'])\n",
    "min_p = int(data['min_price'])\n",
    "vari = max_p - min_p\n",
    "#print(vari)\n",
    "#print(max_p)\n",
    "open_p = int(data['opening_price'])\n",
    "#print(open_p + vari)\n",
    "close_p = int(data['closing_price'])\n",
    "if open_p + vari > max_p :\n",
    "    print('상승장')\n",
    "else :\n",
    "    print('하락장')"
   ]
  },
  {
   "cell_type": "markdown",
   "metadata": {},
   "source": [
    "# 개인정보보호\n",
    "> 사용자의 핸드폰번호를 입력 받으려고한다. 개인정보 보호를 위하여 뒷자리 4자리를 제외하고는 마스킹 처리를 하려고한다.\n",
    ">\n",
    "> 핸드폰번호는 010으로 시작해야하고 11자리여야한다. 핸드폰번호를 입력하지 않았다면 \"핸드폰번호를 입력하세요\"를 출력한다\n",
    "\n",
    "```\n",
    "예시 입력)\n",
    "01012341234\n",
    "예시 출력)\n",
    "*******1234\n",
    "```"
   ]
  },
  {
   "cell_type": "code",
   "execution_count": null,
   "metadata": {},
   "outputs": [],
   "source": [
    "# 여기에 코드를 작성하세요\n",
    "phone = input()\n",
    "if len(phone) == 0 :\n",
    "    print('핸드폰 번호를 입력하세요!')\n",
    "elif phone[0:3] != '010' :\n",
    "    print('010으로 시작하는 번호가 아닙니다. 핸드폰 번호를 다시 입력하세요!')\n",
    "elif len(phone) != 11 :\n",
    "    print('11자리가 아닙니다. 핸드폰 번호를 다시 입력하세요!')\n",
    "else :\n",
    "    num_list=[]\n",
    "    num_list = list(phone)\n",
    "    for i in range(0, len(num_list)-4) :\n",
    "        num_list[i]='*'\n",
    "    \n",
    "    phone =''\n",
    "    for i in range(len(num_list)) :\n",
    "        phone += num_list[i]\n",
    "   \n",
    "    print(f'{phone}')\n",
    "'''\n",
    "phone_num = input()\n",
    "\n",
    "try :\n",
    "    numbers = [int (number) for number in phone_num]\n",
    "    map(int, phone_num)\n",
    "    \n",
    "except :\n",
    "    print('핸드폰 번호를 입력하세요.')\n",
    "else :\n",
    "    if phone_num[0:3] == '010' and len(phone_num) == 11:\n",
    "        result = '*' * 7 + phone_num[:4]\n",
    "        print(result)\n",
    "    else :\n",
    "        print('핸드폰 번호를 입력하세요.')\n",
    "\n",
    "\n",
    "\n",
    "\n",
    "'''"
   ]
  },
  {
   "cell_type": "markdown",
   "metadata": {},
   "source": [
    "# 정중앙\n",
    "> 사용자가 입력한 문자열중 가운데 글자를 출력하라. 문자열이 짝수라면 가운데 두글자를 출력하라"
   ]
  },
  {
   "cell_type": "code",
   "execution_count": null,
   "metadata": {},
   "outputs": [],
   "source": [
    "# 여기에 코드를 작성하세요\n",
    "text = input()\n",
    "result = int(len(text)/2)\n",
    "if len(text) % 2 :\n",
    "    print(text[result])\n",
    "else :\n",
    "    print(f'{text[result-1:result+1]}')"
   ]
  }
 ],
 "metadata": {
  "kernelspec": {
   "display_name": "Python 3",
   "language": "python",
   "name": "python3"
  },
  "language_info": {
   "codemirror_mode": {
    "name": "ipython",
    "version": 3
   },
   "file_extension": ".py",
   "mimetype": "text/x-python",
   "name": "python",
   "nbconvert_exporter": "python",
   "pygments_lexer": "ipython3",
   "version": "3.7.4"
  },
  "toc": {
   "base_numbering": 1,
   "nav_menu": {},
   "number_sections": true,
   "sideBar": true,
   "skip_h1_title": false,
   "title_cell": "Table of Contents",
   "title_sidebar": "Contents",
   "toc_cell": false,
   "toc_position": {},
   "toc_section_display": true,
   "toc_window_display": false
  }
 },
 "nbformat": 4,
 "nbformat_minor": 2
}
